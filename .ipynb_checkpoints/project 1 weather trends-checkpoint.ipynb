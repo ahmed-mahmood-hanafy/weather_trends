{
 "cells": [
  {
   "cell_type": "markdown",
   "metadata": {},
   "source": [
    "# project 1 exploring weather trends"
   ]
  },
  {
   "cell_type": "markdown",
   "metadata": {},
   "source": [
    "\n",
    "## extracting data using sql"
   ]
  },
  {
   "cell_type": "markdown",
   "metadata": {},
   "source": [
    "`SELECT gd.year,gd.avg_temp g_avg_temp,cd.avg_temp alex_avg_temp\n",
    "FROM city_data cd\n",
    "JOIN global_data gd\n",
    "ON gd.year =cd.year\n",
    "WHERE city = 'Alexandria' \n",
    "AND country = 'Egypt';`\n"
   ]
  },
  {
   "cell_type": "markdown",
   "metadata": {},
   "source": [
    "## processing and visualising data using google sheets"
   ]
  },
  {
   "cell_type": "markdown",
   "metadata": {},
   "source": [
    "the movig average is calculated by the average of 4 successive values by :"
   ]
  },
  {
   "cell_type": "markdown",
   "metadata": {},
   "source": [
    "![CHART](https://docs.google.com/spreadsheets/d/e/2PACX-1vQ27d4Ue_eVQREGB90yGpm-sYT_hdOucY0Y2uvSLLiQbi4Qrre9rtrHbIseMfks2NcHQBC8uIgISuya/pubchart?oid=2092023573&amp;format=image)"
   ]
  },
  {
   "cell_type": "markdown",
   "metadata": {},
   "source": [
    "![chart](https://docs.google.com/spreadsheets/d/e/2PACX-1vQ27d4Ue_eVQREGB90yGpm-sYT_hdOucY0Y2uvSLLiQbi4Qrre9rtrHbIseMfks2NcHQBC8uIgISuya/pubchart?oid=470665571&amp;format=image)"
   ]
  },
  {
   "cell_type": "markdown",
   "metadata": {},
   "source": [
    "## interpretation"
   ]
  },
  {
   "cell_type": "markdown",
   "metadata": {},
   "source": [
    "the temperature of alex is always higher than the global avrage tempreture"
   ]
  },
  {
   "cell_type": "markdown",
   "metadata": {},
   "source": [
    "the lines are almost parallel and the difference between the two is almost the same  which indicate correlation"
   ]
  },
  {
   "cell_type": "markdown",
   "metadata": {},
   "source": [
    "the temperature is increasing throughout the years"
   ]
  },
  {
   "cell_type": "markdown",
   "metadata": {},
   "source": [
    "there is a drop near 1810 need more investigation"
   ]
  }
 ],
 "metadata": {
  "kernelspec": {
   "display_name": "Python [conda env:Anaconda3]",
   "language": "python",
   "name": "conda-env-Anaconda3-py"
  },
  "language_info": {
   "codemirror_mode": {
    "name": "ipython",
    "version": 3
   },
   "file_extension": ".py",
   "mimetype": "text/x-python",
   "name": "python",
   "nbconvert_exporter": "python",
   "pygments_lexer": "ipython3",
   "version": "3.6.6"
  }
 },
 "nbformat": 4,
 "nbformat_minor": 2
}
